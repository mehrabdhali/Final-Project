{
 "cells": [
  {
   "cell_type": "code",
   "execution_count": 5,
   "metadata": {},
   "outputs": [
    {
     "name": "stdout",
     "output_type": "stream",
     "text": [
      "oO8KIezkyYTwkyCiTUdu55PA7LSM5Q8Q\n"
     ]
    }
   ],
   "source": [
    "from Ownkey import API_Key\n",
    "import requests\n",
    "import pandas as pd\n",
    "\n",
    "print(API_Key)"
   ]
  },
  {
   "cell_type": "code",
   "execution_count": 6,
   "metadata": {},
   "outputs": [
    {
     "name": "stdout",
     "output_type": "stream",
     "text": [
      "         Volume          vw      Open     Close      High       Low  \\\n",
      "0  38524.350057  46491.2035  46989.50  46124.08  47988.00  44500.00   \n",
      "1  49773.358263  45878.5148  46120.79  46666.11  47732.50  44268.00   \n",
      "2  50944.645338  46947.4415  46654.00  46350.40  49102.29  45555.55   \n",
      "3  59970.952736  44196.8707  46350.40  42773.03  46522.20  41444.97   \n",
      "4  13737.624864  42831.5723  42775.10  42839.33  43250.00  42427.00   \n",
      "\n",
      "        Date       n  \n",
      "0 2024-01-09  656435  \n",
      "1 2024-01-10  738646  \n",
      "2 2024-01-11  762583  \n",
      "3 2024-01-12  791172  \n",
      "4 2024-01-13  315568  \n"
     ]
    }
   ],
   "source": [
    "ticker = \"X:BTCUSD\"\n",
    "multiplier = 1\n",
    "timespan = \"day\"\n",
    "start_date = \"2024-01-09\"\n",
    "end_date = \"2024-12-10\"\n",
    "\n",
    "url = f\"https://api.polygon.io/v2/aggs/ticker/{ticker}/range/{multiplier}/{timespan}/{start_date}/{end_date}?apiKey={API_Key}\"\n",
    "\n",
    "#print(url)\n",
    "\n",
    "response = requests.get(url)\n",
    "data = response.json()\n",
    "\n",
    "if \"results\" in data:\n",
    "    df = pd.DataFrame(data[\"results\"])\n",
    "\n",
    "    df['t'] = pd.to_datetime(df['t'], unit='ms')\n",
    "\n",
    "    df.rename(columns={'t': 'Date', 'o': 'Open', 'h': 'High', 'l': 'Low', 'c': 'Close', 'v': 'Volume'}, inplace=True)\n",
    "\n",
    "    print(df.head())\n",
    "else:\n",
    "    print(\"Error fetching data:\", data)"
   ]
  }
 ],
 "metadata": {
  "kernelspec": {
   "display_name": "Python 3",
   "language": "python",
   "name": "python3"
  },
  "language_info": {
   "codemirror_mode": {
    "name": "ipython",
    "version": 3
   },
   "file_extension": ".py",
   "mimetype": "text/x-python",
   "name": "python",
   "nbconvert_exporter": "python",
   "pygments_lexer": "ipython3",
   "version": "3.9.6"
  }
 },
 "nbformat": 4,
 "nbformat_minor": 2
}
