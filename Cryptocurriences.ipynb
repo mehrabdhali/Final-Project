{
 "cells": [
  {
   "cell_type": "code",
   "execution_count": 7,
   "metadata": {},
   "outputs": [
    {
     "name": "stdout",
     "output_type": "stream",
     "text": [
      "Error fetching data for X:BTCUSD: {'status': 'ERROR', 'request_id': '4336b356ee595ffc0299a15fd7494485', 'error': \"You've exceeded the maximum requests per minute, please wait or upgrade your subscription to continue. https://polygon.io/pricing\"}\n",
      "Error fetching data for X:ETHUSD: {'status': 'ERROR', 'request_id': 'dffc8c135e82015dfa3846cbca9807be', 'error': \"You've exceeded the maximum requests per minute, please wait or upgrade your subscription to continue. https://polygon.io/pricing\"}\n",
      "Error fetching data for X:LTCUSD: {'status': 'ERROR', 'request_id': 'e0c7bc6f68f1c6a6426e66a1c18d884a', 'error': \"You've exceeded the maximum requests per minute, please wait or upgrade your subscription to continue. https://polygon.io/pricing\"}\n",
      "Empty DataFrame\n",
      "Columns: []\n",
      "Index: []\n"
     ]
    }
   ],
   "source": [
    "from Ownkey import API_Key\n",
    "import pandas as pd\n",
    "import requests\n",
    "\n",
    "\n",
    "def fetch_crypto_data(API_Key, tickers, multiplier=1, timespan=\"day\", start_date=\"2024-01-09\", end_date=\"2024-12-10\"):\n",
    "    # Initialize an empty list to collect data\n",
    "    crypto_data = []\n",
    "    \n",
    "    # Loop through each ticker\n",
    "    for ticker in tickers:\n",
    "        url = f\"https://api.polygon.io/v2/aggs/ticker/{ticker}/range/{multiplier}/{timespan}/{start_date}/{end_date}?apiKey={API_Key}\"\n",
    "        response = requests.get(url)\n",
    "        data = response.json()\n",
    "        \n",
    "        if \"results\" in data:\n",
    "            # Create a DataFrame from the results\n",
    "            df = pd.DataFrame(data[\"results\"])\n",
    "            df['t'] = pd.to_datetime(df['t'], unit='ms')  # Convert timestamp to datetime\n",
    "            df.rename(columns={'o': 'Open', 'h': 'High', 'l': 'Low', 'c': 'Close', 'v': 'Volume'}, inplace=True)\n",
    "            \n",
    "            # Get the latest row and make a copy\n",
    "            latest_row = df.iloc[-1].copy() \n",
    "            # Append the ticker and format the row for final output\n",
    "            crypto_data.append({\n",
    "                \"Ticker\": ticker,\n",
    "                \"Date\": latest_row[\"t\"],\n",
    "                \"Open\": latest_row[\"Open\"],\n",
    "                \"High\": latest_row[\"High\"],\n",
    "                \"Low\": latest_row[\"Low\"],\n",
    "                \"Close\": latest_row[\"Close\"],\n",
    "                \"Volume\": latest_row[\"Volume\"]\n",
    "            })\n",
    "        else:\n",
    "            print(f\"Error fetching data for {ticker}: {data}\")\n",
    "    \n",
    "    # Combine all data into a single DataFrame\n",
    "    final_df = pd.DataFrame(crypto_data)\n",
    "    \n",
    "    return final_df\n",
    "\n",
    "# Example usage\n",
    "tickers = [\"X:BTCUSD\", \"X:ETHUSD\", \"X:LTCUSD\"]  # Add more tickers here\n",
    "\n",
    "try:\n",
    "    df = fetch_crypto_data(API_Key, tickers)\n",
    "    print(df)\n",
    "except ValueError as e:\n",
    "    print(e)"
   ]
  }
 ],
 "metadata": {
  "kernelspec": {
   "display_name": "Python 3",
   "language": "python",
   "name": "python3"
  },
  "language_info": {
   "codemirror_mode": {
    "name": "ipython",
    "version": 3
   },
   "file_extension": ".py",
   "mimetype": "text/x-python",
   "name": "python",
   "nbconvert_exporter": "python",
   "pygments_lexer": "ipython3",
   "version": "3.9.6"
  }
 },
 "nbformat": 4,
 "nbformat_minor": 2
}
