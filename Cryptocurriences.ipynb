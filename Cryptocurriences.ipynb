{
 "cells": [
  {
   "cell_type": "code",
   "execution_count": 2,
   "metadata": {
    "tags": []
   },
   "outputs": [
    {
     "name": "stdout",
     "output_type": "stream",
     "text": [
      "\n"
     ]
    }
   ],
   "source": [
    "from Ownkey import API_Key\n",
    "import requests\n",
    "import pandas as pd\n",
    "\n",
    "print(API_Key)"
   ]
  },
  {
   "cell_type": "code",
   "execution_count": 3,
   "metadata": {},
   "outputs": [
    {
     "name": "stdout",
     "output_type": "stream",
     "text": [
      "            Volume          vw          Open        Close          High  \\\n",
      "0     3.852435e+04  46491.2035  46989.500000  46124.08000  47988.000000   \n",
      "1     4.977336e+04  45878.5148  46120.790000  46666.11000  47732.500000   \n",
      "2     5.094465e+04  46947.4415  46654.000000  46350.40000  49102.290000   \n",
      "3     5.997095e+04  44196.8707  46350.400000  42773.03000  46522.200000   \n",
      "4     1.373762e+04  42831.5723  42775.100000  42839.33000  43250.000000   \n",
      "...            ...         ...           ...          ...           ...   \n",
      "1343  7.270837e+08      0.4331      0.427610      0.43540      0.442300   \n",
      "1344  8.572616e+08      0.4525      0.435417      0.45327      0.466680   \n",
      "1345  8.361394e+08      0.4646      0.453270      0.46687      0.485086   \n",
      "1346  1.693641e+07      0.4242      0.466760      0.41516      0.467900   \n",
      "1347  1.344115e+09      0.3934      0.414010      0.39395      0.423030   \n",
      "\n",
      "              Low       Date       n     Ticker  \n",
      "0     44500.00000 2024-01-09  656435   X:BTCUSD  \n",
      "1     44268.00000 2024-01-10  738646   X:BTCUSD  \n",
      "2     45555.55000 2024-01-11  762583   X:BTCUSD  \n",
      "3     41444.97000 2024-01-12  791172   X:BTCUSD  \n",
      "4     42427.00000 2024-01-13  315568   X:BTCUSD  \n",
      "...           ...        ...     ...        ...  \n",
      "1343      0.42019 2024-12-06  323144  X:DOGEUSD  \n",
      "1344      0.43100 2024-12-07  392658  X:DOGEUSD  \n",
      "1345      0.44600 2024-12-08  386062  X:DOGEUSD  \n",
      "1346      0.38723 2024-12-09    9539  X:DOGEUSD  \n",
      "1347      0.36522 2024-12-10  501253  X:DOGEUSD  \n",
      "\n",
      "[1348 rows x 9 columns]\n"
     ]
    }
   ],
   "source": [
    "def fetch_crypto_data(API_Key, tickers, multiplier=1, timespan=\"day\", start_date=\"2024-01-09\", end_date=\"2024-12-10\"):\n",
    "    # Initialize an empty list to collect data\n",
    "    crypto_data = []\n",
    "    \n",
    "    # Loop through each ticker\n",
    "    for ticker in tickers:\n",
    "        url = f\"https://api.polygon.io/v2/aggs/ticker/{ticker}/range/{multiplier}/{timespan}/{start_date}/{end_date}?apiKey={API_Key}\"\n",
    "        response = requests.get(url)\n",
    "        data = response.json()\n",
    "        \n",
    "        if \"results\" in data:\n",
    "            # Create a DataFrame from the results\n",
    "            df = pd.DataFrame(data[\"results\"])\n",
    "            df['t'] = pd.to_datetime(df['t'], unit='ms')  # Convert timestamp to datetime\n",
    "            df.rename(columns={'o': 'Open', 'h': 'High', 'l': 'Low', 'c': 'Close', 'v': 'Volume'}, inplace=True)\n",
    "            \n",
    "            # Add the Ticker column to identify the cryptocurrency\n",
    "            df[\"Ticker\"] = ticker\n",
    "            df.rename(columns={'t': 'Date'}, inplace=True)\n",
    "            \n",
    "            # Append the processed DataFrame to the list\n",
    "            crypto_data.append(df)\n",
    "        else:\n",
    "            print(f\"Error fetching data for {ticker}: {data}\")\n",
    "    \n",
    "    # Combine all data into a single DataFrame\n",
    "    final_df = pd.concat(crypto_data, ignore_index=True)\n",
    "    \n",
    "    return final_df\n",
    "\n",
    "\n",
    "# Example usage\n",
    "tickers = [\"X:BTCUSD\", \"X:ETHUSD\", \"X:LTCUSD\", \"X:DOGEUSD\"]  # Add more tickers here\n",
    "\n",
    "df = fetch_crypto_data(API_Key, tickers)\n",
    "print(df)"
   ]
  },
  {
   "cell_type": "code",
   "execution_count": 5,
   "metadata": {},
   "outputs": [],
   "source": [
    "df[\"Growth Rate\"] = ((df[\"Close\"] - df[\"Open\"]) / df[\"Open\"]) * 100"
   ]
  },
  {
   "cell_type": "code",
   "execution_count": 6,
   "metadata": {},
   "outputs": [
    {
     "data": {
      "text/html": [
       "<div>\n",
       "<style scoped>\n",
       "    .dataframe tbody tr th:only-of-type {\n",
       "        vertical-align: middle;\n",
       "    }\n",
       "\n",
       "    .dataframe tbody tr th {\n",
       "        vertical-align: top;\n",
       "    }\n",
       "\n",
       "    .dataframe thead th {\n",
       "        text-align: right;\n",
       "    }\n",
       "</style>\n",
       "<table border=\"1\" class=\"dataframe\">\n",
       "  <thead>\n",
       "    <tr style=\"text-align: right;\">\n",
       "      <th></th>\n",
       "      <th>Volume</th>\n",
       "      <th>vw</th>\n",
       "      <th>Open</th>\n",
       "      <th>Close</th>\n",
       "      <th>High</th>\n",
       "      <th>Low</th>\n",
       "      <th>Date</th>\n",
       "      <th>n</th>\n",
       "      <th>Ticker</th>\n",
       "      <th>Growth Rate</th>\n",
       "    </tr>\n",
       "  </thead>\n",
       "  <tbody>\n",
       "    <tr>\n",
       "      <th>0</th>\n",
       "      <td>38524.350057</td>\n",
       "      <td>46491.2035</td>\n",
       "      <td>46989.50</td>\n",
       "      <td>46124.08</td>\n",
       "      <td>47988.00</td>\n",
       "      <td>44500.00</td>\n",
       "      <td>2024-01-09</td>\n",
       "      <td>656435</td>\n",
       "      <td>X:BTCUSD</td>\n",
       "      <td>-1.841731</td>\n",
       "    </tr>\n",
       "    <tr>\n",
       "      <th>1</th>\n",
       "      <td>49773.358263</td>\n",
       "      <td>45878.5148</td>\n",
       "      <td>46120.79</td>\n",
       "      <td>46666.11</td>\n",
       "      <td>47732.50</td>\n",
       "      <td>44268.00</td>\n",
       "      <td>2024-01-10</td>\n",
       "      <td>738646</td>\n",
       "      <td>X:BTCUSD</td>\n",
       "      <td>1.182374</td>\n",
       "    </tr>\n",
       "    <tr>\n",
       "      <th>2</th>\n",
       "      <td>50944.645338</td>\n",
       "      <td>46947.4415</td>\n",
       "      <td>46654.00</td>\n",
       "      <td>46350.40</td>\n",
       "      <td>49102.29</td>\n",
       "      <td>45555.55</td>\n",
       "      <td>2024-01-11</td>\n",
       "      <td>762583</td>\n",
       "      <td>X:BTCUSD</td>\n",
       "      <td>-0.650748</td>\n",
       "    </tr>\n",
       "    <tr>\n",
       "      <th>3</th>\n",
       "      <td>59970.952736</td>\n",
       "      <td>44196.8707</td>\n",
       "      <td>46350.40</td>\n",
       "      <td>42773.03</td>\n",
       "      <td>46522.20</td>\n",
       "      <td>41444.97</td>\n",
       "      <td>2024-01-12</td>\n",
       "      <td>791172</td>\n",
       "      <td>X:BTCUSD</td>\n",
       "      <td>-7.718100</td>\n",
       "    </tr>\n",
       "    <tr>\n",
       "      <th>4</th>\n",
       "      <td>13737.624864</td>\n",
       "      <td>42831.5723</td>\n",
       "      <td>42775.10</td>\n",
       "      <td>42839.33</td>\n",
       "      <td>43250.00</td>\n",
       "      <td>42427.00</td>\n",
       "      <td>2024-01-13</td>\n",
       "      <td>315568</td>\n",
       "      <td>X:BTCUSD</td>\n",
       "      <td>0.150157</td>\n",
       "    </tr>\n",
       "  </tbody>\n",
       "</table>\n",
       "</div>"
      ],
      "text/plain": [
       "         Volume          vw      Open     Close      High       Low  \\\n",
       "0  38524.350057  46491.2035  46989.50  46124.08  47988.00  44500.00   \n",
       "1  49773.358263  45878.5148  46120.79  46666.11  47732.50  44268.00   \n",
       "2  50944.645338  46947.4415  46654.00  46350.40  49102.29  45555.55   \n",
       "3  59970.952736  44196.8707  46350.40  42773.03  46522.20  41444.97   \n",
       "4  13737.624864  42831.5723  42775.10  42839.33  43250.00  42427.00   \n",
       "\n",
       "        Date       n    Ticker  Growth Rate  \n",
       "0 2024-01-09  656435  X:BTCUSD    -1.841731  \n",
       "1 2024-01-10  738646  X:BTCUSD     1.182374  \n",
       "2 2024-01-11  762583  X:BTCUSD    -0.650748  \n",
       "3 2024-01-12  791172  X:BTCUSD    -7.718100  \n",
       "4 2024-01-13  315568  X:BTCUSD     0.150157  "
      ]
     },
     "execution_count": 6,
     "metadata": {},
     "output_type": "execute_result"
    }
   ],
   "source": [
    "df.head()"
   ]
  },
  {
   "cell_type": "code",
   "execution_count": 7,
   "metadata": {},
   "outputs": [],
   "source": [
    "average_growth = df.groupby(\"Ticker\")[\"Growth Rate\"].mean()"
   ]
  },
  {
   "cell_type": "code",
   "execution_count": 8,
   "metadata": {},
   "outputs": [
    {
     "data": {
      "text/plain": [
       "<bound method Series.max of Ticker\n",
       "X:BTCUSD     0.229141\n",
       "X:DOGEUSD    0.596971\n",
       "X:ETHUSD     0.203740\n",
       "X:LTCUSD     0.252034\n",
       "Name: Growth Rate, dtype: float64>"
      ]
     },
     "execution_count": 8,
     "metadata": {},
     "output_type": "execute_result"
    }
   ],
   "source": [
    "average_growth.max"
   ]
  },
  {
   "cell_type": "code",
   "execution_count": 9,
   "metadata": {},
   "outputs": [
    {
     "data": {
      "image/png": "[encoded data removed]",
      "text/plain": [
       "<Figure size 1000x600 with 1 Axes>"
      ]
     },
     "metadata": {},
     "output_type": "display_data"
    }
   ],
   "source": [
    "import matplotlib.pyplot as plt\n",
    "\n",
    "# average growth rate as a bar chart\n",
    "plt.figure(figsize=(10, 6))\n",
    "average_growth.plot(kind=\"bar\", color=\"skyblue\")\n",
    "plt.title(\"Average Growth Rate of Cryptocurrencies\", fontsize=16)\n",
    "plt.xlabel(\"Cryptocurrency\", fontsize=14)\n",
    "plt.ylabel(\"Average Growth Rate (%)\", fontsize=14)\n",
    "plt.xticks(rotation=0, fontsize=12)\n",
    "plt.tight_layout()\n",
    "\n",
    "plt.show()"
   ]
  }
 ],
 "metadata": {
  "kernelspec": {
   "display_name": "Python 3",
   "language": "python",
   "name": "python3"
  },
  "language_info": {
   "codemirror_mode": {
    "name": "ipython",
    "version": 3
   },
   "file_extension": ".py",
   "mimetype": "text/x-python",
   "name": "python",
   "nbconvert_exporter": "python",
   "pygments_lexer": "ipython3",
   "version": "3.9.6"
  }
 },
 "nbformat": 4,
 "nbformat_minor": 4
}
