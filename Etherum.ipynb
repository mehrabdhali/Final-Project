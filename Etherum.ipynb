{
 "cells": [
  {
   "cell_type": "code",
   "execution_count": 1,
   "id": "cf4fcdb5-afb1-4784-84e9-7cf0c4db12d2",
   "metadata": {
    "tags": []
   },
   "outputs": [
    {
     "name": "stderr",
     "output_type": "stream",
     "text": [
      "/Users/edgarrios/Library/Python/3.9/lib/python/site-packages/urllib3/__init__.py:35: NotOpenSSLWarning: urllib3 v2 only supports OpenSSL 1.1.1+, currently the 'ssl' module is compiled with 'LibreSSL 2.8.3'. See: https://github.com/urllib3/urllib3/issues/3020\n",
      "  warnings.warn(\n"
     ]
    },
    {
     "name": "stdout",
     "output_type": "stream",
     "text": [
      "\n"
     ]
    }
   ],
   "source": [
    "from Ownkey import API_Key\n",
    "import requests\n",
    "import pandas as pd\n",
    "\n",
    "print(API_Key)\n",
    "\n"
   ]
  },
  {
   "cell_type": "code",
   "execution_count": 2,
   "id": "d763c2b8-207a-4ad6-89b4-d9e89c469f81",
   "metadata": {
    "tags": []
   },
   "outputs": [
    {
     "name": "stdout",
     "output_type": "stream",
     "text": [
      "Error fetching data: {'status': 'ERROR', 'request_id': '58ab7f644217b384470423abb0fe91c5', 'error': 'API Key was not provided'}\n"
     ]
    }
   ],
   "source": [
    "ticker = \"X:ETHUSD\"\n",
    "multiplier = 1\n",
    "timespan = \"day\"\n",
    "start_date = \"2024-01-09\"\n",
    "end_date = \"2024-12-10\"\n",
    "\n",
    "url = f\"https://api.polygon.io/v2/aggs/ticker/{ticker}/range/{multiplier}/{timespan}/{start_date}/{end_date}?apiKey={API_Key}\"\n",
    "\n",
    "#print(url)\n",
    "\n",
    "response = requests.get(url)\n",
    "data = response.json()\n",
    "\n",
    "if \"results\" in data:\n",
    "    df = pd.DataFrame(data[\"results\"])\n",
    "\n",
    "    df['t'] = pd.to_datetime(df['t'], unit='ms')\n",
    "\n",
    "    df.rename(columns={'t': 'Date', 'o': 'Open', 'h': 'High', 'l': 'Low', 'c': 'Close', 'v': 'Volume'}, inplace=True)\n",
    "\n",
    "    print(df.head())\n",
    "else:\n",
    "    print(\"Error fetching data:\", data)\n"
   ]
  },
  {
   "cell_type": "code",
   "execution_count": null,
   "id": "4be789f5-e58a-45f6-9261-49f6e3d19209",
   "metadata": {},
   "outputs": [],
   "source": []
  }
 ],
 "metadata": {
  "kernelspec": {
   "display_name": "Python 3",
   "language": "python",
   "name": "python3"
  },
  "language_info": {
   "codemirror_mode": {
    "name": "ipython",
    "version": 3
   },
   "file_extension": ".py",
   "mimetype": "text/x-python",
   "name": "python",
   "nbconvert_exporter": "python",
   "pygments_lexer": "ipython3",
   "version": "3.9.6"
  }
 },
 "nbformat": 4,
 "nbformat_minor": 5
}
